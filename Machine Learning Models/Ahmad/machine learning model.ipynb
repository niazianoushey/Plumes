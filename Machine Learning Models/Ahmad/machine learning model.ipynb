{
  "cells": [
    {
      "cell_type": "markdown",
      "source": [
        "# Comparative Analysis of Image Classification Models on Sight Insight Dataset\n",
        "In this notebook, we conduct a comparative analysis of different machine learning models for the task of image classification using the Sight Insight Dataset. The dataset comprises images belonging to five distinct classes: Mild, Moderate, NO_DR (No Diabetic Retinopathy), Proliferate_DR, and Severe.\n",
        "\n",
        "Diabetic Retinopathy (DR) is a common complication of diabetes that affects the eyes, potentially leading to vision loss or blindness if left untreated. Early detection and classification of DR severity play a crucial role in effective patient management and treatment.\n",
        "\n",
        "Our objective is to explore and compare the performance of three different approaches for image classification:\n",
        "\n",
        "# Convolutional Neural Network (CNN):\n",
        "A deep learning model known for its effectiveness in learning hierarchical features directly from images.\n",
        "# Support Vector Machine (SVM) with Histogram of Oriented Gradients (HOG) features:\n",
        "A classical machine learning approach that extracts shape and gradient information from images and uses an SVM classifier.\n",
        "# k-Nearest Neighbors (k-NN) with HOG features:\n",
        "A simple instance-based learning algorithm that classifies images based on their similarity to other images in the training set.\n",
        "We start by loading and preprocessing the dataset, followed by feature extraction and model training. We then evaluate the models using standard performance metrics such as accuracy and confusion matrices.\n",
        "Additionally, we visualize the actual versus predicted labels to gain insights into the models' classification behavior.\n",
        "\n",
        "By comparing the performance of these models, we aim to identify the most suitable approach for classifying diabetic retinopathy severity from retinal images, ultimately contributing to the development of effective diagnostic tools for healthcare professionals."
      ],
      "metadata": {
        "id": "eWwLRzC6crAK"
      }
    },
    {
      "cell_type": "markdown",
      "source": [
        "# Mount Google Drive for Dataset"
      ],
      "metadata": {
        "id": "P2x56FpudJaF"
      }
    },
    {
      "cell_type": "code",
      "execution_count": 9,
      "metadata": {
        "colab": {
          "base_uri": "https://localhost:8080/"
        },
        "id": "q8ALgTLFscPG",
        "outputId": "fd385ca3-b244-4789-dc82-c8db9212ce4a"
      },
      "outputs": [
        {
          "output_type": "stream",
          "name": "stdout",
          "text": [
            "Mounted at /content/drive\n"
          ]
        }
      ],
      "source": [
        "from google.colab import drive\n",
        "drive.mount('/content/drive')"
      ]
    },
    {
      "cell_type": "markdown",
      "source": [
        "# 1: Convolutional Neural Network (CNN)\n"
      ],
      "metadata": {
        "id": "IU9x9kE4dBkL"
      }
    },
    {
      "cell_type": "markdown",
      "source": [
        "# 1.1  Import all necessary libraries"
      ],
      "metadata": {
        "id": "GYJlUAo_dUx7"
      }
    },
    {
      "cell_type": "code",
      "execution_count": 10,
      "metadata": {
        "id": "AonblYF-se3o"
      },
      "outputs": [],
      "source": [
        "import os\n",
        "import numpy as np\n",
        "import matplotlib.pyplot as plt\n",
        "import seaborn as sns\n",
        "import tensorflow as tf\n",
        "from tensorflow.keras import layers, models\n",
        "from sklearn.model_selection import train_test_split\n",
        "from sklearn.metrics import confusion_matrix\n",
        "from sklearn.utils.class_weight import compute_class_weight\n",
        "from tensorflow.keras.preprocessing.image import ImageDataGenerator\n"
      ]
    },
    {
      "cell_type": "markdown",
      "source": [
        "# 1.2   Load data"
      ],
      "metadata": {
        "id": "NGlgrXe8dbMy"
      }
    },
    {
      "cell_type": "code",
      "execution_count": 11,
      "metadata": {
        "id": "zc3SShAQsnlA"
      },
      "outputs": [],
      "source": [
        "\n",
        "# Define the directory where your dataset is located\n",
        "dataset_dir = '/content/drive/MyDrive/Fiver/sight_insight_dataset/colored_images'\n"
      ]
    },
    {
      "cell_type": "code",
      "execution_count": 12,
      "metadata": {
        "id": "YoIH6s3bswBA"
      },
      "outputs": [],
      "source": [
        "# Assuming you have five separate directories for each class within the dataset directory\n",
        "class_names = sorted(os.listdir(dataset_dir))\n"
      ]
    },
    {
      "cell_type": "code",
      "execution_count": 13,
      "metadata": {
        "id": "llJN-aoXsybm"
      },
      "outputs": [],
      "source": [
        "# Define image dimensions\n",
        "image_height = 128\n",
        "image_width = 128\n",
        "channels = 3  # Assuming RGB images"
      ]
    },
    {
      "cell_type": "code",
      "execution_count": 14,
      "metadata": {
        "id": "aAPsAOHvs11i"
      },
      "outputs": [],
      "source": [
        "# Use ImageDataGenerator for loading and preprocessing images\n",
        "datagen = ImageDataGenerator(\n",
        "    rescale=1./255,  # Rescale pixel values to range [0, 1]\n",
        "    validation_split=0.2  # Split dataset into training and validation sets\n",
        ")"
      ]
    },
    {
      "cell_type": "code",
      "execution_count": 15,
      "metadata": {
        "colab": {
          "base_uri": "https://localhost:8080/"
        },
        "id": "0oPvKktHs4P3",
        "outputId": "26a2bf04-f875-4ae4-aa89-a99fd31c5eda"
      },
      "outputs": [
        {
          "output_type": "stream",
          "name": "stdout",
          "text": [
            "Found 2931 images belonging to 5 classes.\n",
            "Found 731 images belonging to 5 classes.\n"
          ]
        }
      ],
      "source": [
        "# Load and preprocess images from directories\n",
        "train_generator = datagen.flow_from_directory(\n",
        "    dataset_dir,\n",
        "    target_size=(image_height, image_width),\n",
        "    batch_size=32,\n",
        "    class_mode='sparse',  # For multi-class classification\n",
        "    subset='training'  # Specify this is for training set\n",
        ")\n",
        "\n",
        "val_generator = datagen.flow_from_directory(\n",
        "    dataset_dir,\n",
        "    target_size=(image_height, image_width),\n",
        "    batch_size=32,\n",
        "    class_mode='sparse',  # For multi-class classification\n",
        "    subset='validation'  # Specify this is for validation set\n",
        ")"
      ]
    },
    {
      "cell_type": "markdown",
      "source": [
        "# 1.3 Apply all necessary preprocessing for CNN architecture"
      ],
      "metadata": {
        "id": "fEGgMJgodsyT"
      }
    },
    {
      "cell_type": "code",
      "execution_count": 16,
      "metadata": {
        "colab": {
          "base_uri": "https://localhost:8080/"
        },
        "id": "oXzV8AEXs8YE",
        "outputId": "a430fa97-b85a-4254-94c0-ebab8ff04e01"
      },
      "outputs": [
        {
          "output_type": "stream",
          "name": "stdout",
          "text": [
            "Found 3662 images belonging to 5 classes.\n"
          ]
        }
      ],
      "source": [
        "\n",
        "# This might include data augmentation, such as rotation, zoom, etc.\n",
        "# Here's an example of applying rotation and zoom augmentation\n",
        "datagen_aug = ImageDataGenerator(\n",
        "    rescale=1./255,\n",
        "    rotation_range=20,  # Rotate images by up to 20 degrees\n",
        "    zoom_range=0.2  # Zoom images by up to 20%\n",
        ")\n",
        "\n",
        "train_generator_aug = datagen_aug.flow_from_directory(\n",
        "    dataset_dir,\n",
        "    target_size=(image_height, image_width),\n",
        "    batch_size=32,\n",
        "    class_mode='sparse',\n",
        "    subset='training'\n",
        ")"
      ]
    },
    {
      "cell_type": "markdown",
      "source": [
        "# 1.4 Create a simple but accurate CNN model"
      ],
      "metadata": {
        "id": "oMK2mGzzdy9U"
      }
    },
    {
      "cell_type": "code",
      "execution_count": 17,
      "metadata": {
        "id": "2IbM6UJ1t-2a"
      },
      "outputs": [],
      "source": [
        "\n",
        "model = models.Sequential([\n",
        "    layers.Conv2D(32, (3, 3), activation='relu', input_shape=(image_height, image_width, channels)),\n",
        "    layers.MaxPooling2D((2, 2)),\n",
        "    layers.Conv2D(64, (3, 3), activation='relu'),\n",
        "    layers.MaxPooling2D((2, 2)),\n",
        "    layers.Conv2D(64, (3, 3), activation='relu'),\n",
        "    layers.Flatten(),\n",
        "    layers.Dense(64, activation='relu'),\n",
        "    layers.Dense(len(class_names), activation='softmax')  # Number of output classes\n",
        "])"
      ]
    },
    {
      "cell_type": "code",
      "source": [
        "# Summary Of the Model\n",
        "model.summary()"
      ],
      "metadata": {
        "colab": {
          "base_uri": "https://localhost:8080/"
        },
        "id": "sxqTJTeUglOv",
        "outputId": "17976304-548e-4645-824e-df8d56d62694"
      },
      "execution_count": 20,
      "outputs": [
        {
          "output_type": "stream",
          "name": "stdout",
          "text": [
            "Model: \"sequential\"\n",
            "_________________________________________________________________\n",
            " Layer (type)                Output Shape              Param #   \n",
            "=================================================================\n",
            " conv2d_3 (Conv2D)           (None, 126, 126, 32)      896       \n",
            "                                                                 \n",
            " max_pooling2d_2 (MaxPoolin  (None, 63, 63, 32)        0         \n",
            " g2D)                                                            \n",
            "                                                                 \n",
            " conv2d_4 (Conv2D)           (None, 61, 61, 64)        18496     \n",
            "                                                                 \n",
            " max_pooling2d_3 (MaxPoolin  (None, 30, 30, 64)        0         \n",
            " g2D)                                                            \n",
            "                                                                 \n",
            " conv2d_5 (Conv2D)           (None, 28, 28, 64)        36928     \n",
            "                                                                 \n",
            " flatten_1 (Flatten)         (None, 50176)             0         \n",
            "                                                                 \n",
            " dense_1 (Dense)             (None, 64)                3211328   \n",
            "                                                                 \n",
            " dense_2 (Dense)             (None, 5)                 325       \n",
            "                                                                 \n",
            "=================================================================\n",
            "Total params: 3267973 (12.47 MB)\n",
            "Trainable params: 3267973 (12.47 MB)\n",
            "Non-trainable params: 0 (0.00 Byte)\n",
            "_________________________________________________________________\n"
          ]
        }
      ]
    },
    {
      "cell_type": "markdown",
      "source": [
        "# 1.5 Train the model"
      ],
      "metadata": {
        "id": "_LUFPBrRd8U7"
      }
    },
    {
      "cell_type": "code",
      "execution_count": null,
      "metadata": {
        "id": "E6F-9QGzuMzZ"
      },
      "outputs": [],
      "source": [
        "# Compile the Model\n",
        "model.compile(optimizer='adam',\n",
        "              loss='sparse_categorical_crossentropy',\n",
        "              metrics=['accuracy'])"
      ]
    },
    {
      "cell_type": "code",
      "execution_count": null,
      "metadata": {
        "colab": {
          "base_uri": "https://localhost:8080/"
        },
        "id": "qMZ7B-1tuSiO",
        "outputId": "3f00a894-769a-44f9-f503-5db48b6680a9"
      },
      "outputs": [
        {
          "name": "stdout",
          "output_type": "stream",
          "text": [
            "Epoch 1/10\n",
            "115/115 [==============================] - 3337s 29s/step - loss: 1.1879 - accuracy: 0.5284 - val_loss: 1.0787 - val_accuracy: 0.6402\n",
            "Epoch 2/10\n",
            "115/115 [==============================] - 41s 355ms/step - loss: 0.9937 - accuracy: 0.6420 - val_loss: 0.9421 - val_accuracy: 0.6443\n",
            "Epoch 3/10\n",
            "115/115 [==============================] - 40s 350ms/step - loss: 0.9160 - accuracy: 0.6658 - val_loss: 0.8200 - val_accuracy: 0.6977\n",
            "Epoch 4/10\n",
            "115/115 [==============================] - 40s 353ms/step - loss: 0.8928 - accuracy: 0.6775 - val_loss: 0.8465 - val_accuracy: 0.6963\n",
            "Epoch 5/10\n",
            "115/115 [==============================] - 40s 350ms/step - loss: 0.8580 - accuracy: 0.6843 - val_loss: 0.8258 - val_accuracy: 0.7004\n",
            "Epoch 6/10\n",
            "115/115 [==============================] - 41s 356ms/step - loss: 0.8305 - accuracy: 0.6977 - val_loss: 0.7578 - val_accuracy: 0.7155\n",
            "Epoch 7/10\n",
            "115/115 [==============================] - 41s 357ms/step - loss: 0.8137 - accuracy: 0.7054 - val_loss: 0.7978 - val_accuracy: 0.7182\n",
            "Epoch 8/10\n",
            "115/115 [==============================] - 42s 360ms/step - loss: 0.8128 - accuracy: 0.7029 - val_loss: 0.7451 - val_accuracy: 0.7237\n",
            "Epoch 9/10\n",
            "115/115 [==============================] - 41s 358ms/step - loss: 0.8013 - accuracy: 0.7144 - val_loss: 0.7307 - val_accuracy: 0.7305\n",
            "Epoch 10/10\n",
            "115/115 [==============================] - 42s 367ms/step - loss: 0.7770 - accuracy: 0.7193 - val_loss: 0.7344 - val_accuracy: 0.7278\n"
          ]
        }
      ],
      "source": [
        "# Train the model\n",
        "history = model.fit(train_generator_aug, epochs=10, validation_data=val_generator)\n"
      ]
    },
    {
      "cell_type": "markdown",
      "source": [
        "# 1.6 Evaluate the model"
      ],
      "metadata": {
        "id": "WO8mKoSkeBOD"
      }
    },
    {
      "cell_type": "code",
      "execution_count": null,
      "metadata": {
        "colab": {
          "base_uri": "https://localhost:8080/"
        },
        "id": "jKIKoFJMukJX",
        "outputId": "a2ee7d19-4bbf-4795-ea4c-e38b8cd25173"
      },
      "outputs": [
        {
          "name": "stdout",
          "output_type": "stream",
          "text": [
            "1/1 [==============================] - 0s 44ms/step - loss: 0.7594 - accuracy: 0.7188\n"
          ]
        }
      ],
      "source": [
        "\n",
        "# Get the validation data for evaluation\n",
        "X_val, y_val = next(val_generator)\n",
        "\n",
        "# Evaluate the model\n",
        "test_loss, test_acc = model.evaluate(X_val, y_val)\n"
      ]
    },
    {
      "cell_type": "markdown",
      "source": [
        "# 1.7 Plot confusion matrix"
      ],
      "metadata": {
        "id": "70HR5eeSeF1t"
      }
    },
    {
      "cell_type": "code",
      "execution_count": null,
      "metadata": {
        "colab": {
          "base_uri": "https://localhost:8080/",
          "height": 581
        },
        "id": "rK5fOgMfvJrb",
        "outputId": "4f4df219-dbac-4422-e41e-896d87158aeb"
      },
      "outputs": [
        {
          "name": "stdout",
          "output_type": "stream",
          "text": [
            "1/1 [==============================] - 0s 97ms/step\n"
          ]
        },
        {
          "data": {
            "image/png": "[encoded data removed]",
            "text/plain": [
              "<Figure size 800x600 with 2 Axes>"
            ]
          },
          "metadata": {},
          "output_type": "display_data"
        }
      ],
      "source": [
        "\n",
        "# Get the predicted labels\n",
        "y_pred = np.argmax(model.predict(X_val), axis=1)\n",
        "# Get the true labels\n",
        "y_true = y_val\n",
        "# Compute confusion matrix\n",
        "conf_matrix = confusion_matrix(y_true, y_pred)\n",
        "# Plot confusion matrix\n",
        "plt.figure(figsize=(8, 6))\n",
        "sns.heatmap(conf_matrix, annot=True, fmt=\"d\", cmap=\"Blues\")\n",
        "plt.xlabel('Predicted labels')\n",
        "plt.ylabel('True labels')\n",
        "plt.title('Confusion Matrix')\n",
        "plt.show()"
      ]
    },
    {
      "cell_type": "markdown",
      "source": [
        "# 1.8 Plot training and validation loss and accuracy"
      ],
      "metadata": {
        "id": "_gC1bTt7eLe6"
      }
    },
    {
      "cell_type": "code",
      "execution_count": null,
      "metadata": {
        "id": "FPmfei6IvQ9h"
      },
      "outputs": [],
      "source": [
        "\n",
        "plt.plot(history.history['loss'], label='train_loss')\n",
        "plt.plot(history.history['val_loss'], label='val_loss')\n",
        "plt.xlabel('Epochs')\n",
        "plt.ylabel('Loss')\n",
        "plt.legend()\n",
        "plt.show()\n"
      ]
    },
    {
      "cell_type": "code",
      "execution_count": null,
      "metadata": {
        "id": "obKiwRYnvStU"
      },
      "outputs": [],
      "source": [
        "plt.plot(history.history['accuracy'], label='train_accuracy')\n",
        "plt.plot(history.history['val_accuracy'], label='val_accuracy')\n",
        "plt.xlabel('Epochs')\n",
        "plt.ylabel('Accuracy')\n",
        "plt.legend()\n",
        "plt.show()\n"
      ]
    },
    {
      "cell_type": "markdown",
      "source": [
        "# 2. Support Vector Machine (SVM) with Histogram of Oriented Gradients (HOG) features"
      ],
      "metadata": {
        "id": "LsoRQIAWeQKv"
      }
    },
    {
      "cell_type": "code",
      "execution_count": null,
      "metadata": {
        "id": "ZnNPD1sO9kpG"
      },
      "outputs": [],
      "source": [
        "from skimage.feature import hog\n",
        "from skimage import io, color, exposure\n",
        "from sklearn.svm import SVC\n",
        "from sklearn.metrics import accuracy_score\n",
        "from sklearn.model_selection import train_test_split\n"
      ]
    },
    {
      "cell_type": "markdown",
      "source": [
        "# 2.1: Load and preprocess images"
      ],
      "metadata": {
        "id": "YAlA6K4BeaWz"
      }
    },
    {
      "cell_type": "code",
      "execution_count": null,
      "metadata": {
        "id": "atVODncJ9m7g"
      },
      "outputs": [],
      "source": [
        "\n",
        "import os\n",
        "# Function For Data Loadidng and Preprocessing\n",
        "def load_and_preprocess_images(image_paths):\n",
        "    images = []\n",
        "    labels = []\n",
        "    for path in image_paths:\n",
        "        image = io.imread(path)\n",
        "        image = color.rgb2gray(image)  # Convert to grayscale\n",
        "        image = exposure.rescale_intensity(image, in_range=(0, 255))  # Rescale intensity\n",
        "        images.append(image)\n",
        "        # Extract label from directory name\n",
        "        label = os.path.basename(os.path.dirname(path))\n",
        "        labels.append(label)\n",
        "    return images, labels\n"
      ]
    },
    {
      "cell_type": "markdown",
      "source": [
        "# 2.2 Features Extraction"
      ],
      "metadata": {
        "id": "aZG7uG3XemCD"
      }
    },
    {
      "cell_type": "code",
      "execution_count": null,
      "metadata": {
        "id": "oe_aqmng9p8k"
      },
      "outputs": [],
      "source": [
        "# Funtion to  Extract HOG features\n",
        "def extract_hog_features(images):\n",
        "    hog_features = []\n",
        "    for image in images:\n",
        "        features = hog(image, orientations=9, pixels_per_cell=(8, 8), cells_per_block=(2, 2), transform_sqrt=True, block_norm=\"L2-Hys\")\n",
        "        hog_features.append(features)\n",
        "    return hog_features"
      ]
    },
    {
      "cell_type": "code",
      "execution_count": null,
      "metadata": {
        "colab": {
          "base_uri": "https://localhost:8080/"
        },
        "id": "L-PfbVyM-IVx",
        "outputId": "456b39b9-6f3b-43db-8832-9a4e74078902"
      },
      "outputs": [
        {
          "name": "stdout",
          "output_type": "stream",
          "text": [
            "Total images found: 3662\n",
            "Sample image paths:\n",
            "/content/drive/MyDrive/Fiver/sight_insight_dataset/colored_images/Mild/bd269a1f0e4d.png\n",
            "/content/drive/MyDrive/Fiver/sight_insight_dataset/colored_images/Mild/36041171f441.png\n",
            "/content/drive/MyDrive/Fiver/sight_insight_dataset/colored_images/Mild/89ed6a0dd53f.png\n",
            "/content/drive/MyDrive/Fiver/sight_insight_dataset/colored_images/Mild/bb11db08584a.png\n",
            "/content/drive/MyDrive/Fiver/sight_insight_dataset/colored_images/Mild/35d6c4c50072.png\n"
          ]
        }
      ],
      "source": [
        "import os\n",
        "\n",
        "# Define the directory containing your images\n",
        "directory = '/content/drive/MyDrive/Fiver/sight_insight_dataset/colored_images'\n",
        "\n",
        "# Initialize an empty list to store image paths\n",
        "image_paths = []\n",
        "\n",
        "# Iterate through all files and subdirectories in the specified directory\n",
        "for root, _, files in os.walk(directory):\n",
        "    for file in files:\n",
        "        # Check if the file is an image file (you can adjust the condition as needed)\n",
        "        if file.endswith(('.jpg', '.jpeg', '.png', '.bmp')):\n",
        "            # Construct the full path to the image file\n",
        "            image_path = os.path.join(root, file)\n",
        "            # Append the image path to the list\n",
        "            image_paths.append(image_path)\n",
        "\n",
        "# Print the first few image paths to verify\n",
        "print(\"Total images found:\", len(image_paths))\n",
        "print(\"Sample image paths:\")\n",
        "for i in range(min(5, len(image_paths))):  # Print first 5 paths\n",
        "    print(image_paths[i])\n"
      ]
    },
    {
      "cell_type": "code",
      "execution_count": null,
      "metadata": {
        "colab": {
          "background_save": true
        },
        "id": "nXL6ciIi9sfb"
      },
      "outputs": [],
      "source": [
        "# Load dataset and extract features\n",
        "images, labels = load_and_preprocess_images(image_paths)\n",
        "hog_features = extract_hog_features(images)\n"
      ]
    },
    {
      "cell_type": "markdown",
      "source": [
        "# 2.3 Split dataset into training and testing sets"
      ],
      "metadata": {
        "id": "G-Pov5sOew_L"
      }
    },
    {
      "cell_type": "code",
      "execution_count": null,
      "metadata": {
        "id": "z_5VLG439vMb"
      },
      "outputs": [],
      "source": [
        "\n",
        "X_train, X_test, y_train, y_test = train_test_split(hog_features, labels, test_size=0.2, random_state=42)\n"
      ]
    },
    {
      "cell_type": "markdown",
      "source": [
        "# 2.4 Train SVM model"
      ],
      "metadata": {
        "id": "gtbXnbnUe1iV"
      }
    },
    {
      "cell_type": "code",
      "execution_count": null,
      "metadata": {
        "id": "6XRxRguEAC9G",
        "colab": {
          "base_uri": "https://localhost:8080/",
          "height": 75
        },
        "outputId": "b9e83fbe-2f92-4ce4-f96e-5db6d63219f1"
      },
      "outputs": [
        {
          "output_type": "execute_result",
          "data": {
            "text/plain": [
              "SVC(kernel='linear', probability=True)"
            ],
            "text/html": [
              "<style>#sk-container-id-1 {color: black;background-color: white;}#sk-container-id-1 pre{padding: 0;}#sk-container-id-1 div.sk-toggleable {background-color: white;}#sk-container-id-1 label.sk-toggleable__label {cursor: pointer;display: block;width: 100%;margin-bottom: 0;padding: 0.3em;box-sizing: border-box;text-align: center;}#sk-container-id-1 label.sk-toggleable__label-arrow:before {content: \"▸\";float: left;margin-right: 0.25em;color: #696969;}#sk-container-id-1 label.sk-toggleable__label-arrow:hover:before {color: black;}#sk-container-id-1 div.sk-estimator:hover label.sk-toggleable__label-arrow:before {color: black;}#sk-container-id-1 div.sk-toggleable__content {max-height: 0;max-width: 0;overflow: hidden;text-align: left;background-color: #f0f8ff;}#sk-container-id-1 div.sk-toggleable__content pre {margin: 0.2em;color: black;border-radius: 0.25em;background-color: #f0f8ff;}#sk-container-id-1 input.sk-toggleable__control:checked~div.sk-toggleable__content {max-height: 200px;max-width: 100%;overflow: auto;}#sk-container-id-1 input.sk-toggleable__control:checked~label.sk-toggleable__label-arrow:before {content: \"▾\";}#sk-container-id-1 div.sk-estimator input.sk-toggleable__control:checked~label.sk-toggleable__label {background-color: #d4ebff;}#sk-container-id-1 div.sk-label input.sk-toggleable__control:checked~label.sk-toggleable__label {background-color: #d4ebff;}#sk-container-id-1 input.sk-hidden--visually {border: 0;clip: rect(1px 1px 1px 1px);clip: rect(1px, 1px, 1px, 1px);height: 1px;margin: -1px;overflow: hidden;padding: 0;position: absolute;width: 1px;}#sk-container-id-1 div.sk-estimator {font-family: monospace;background-color: #f0f8ff;border: 1px dotted black;border-radius: 0.25em;box-sizing: border-box;margin-bottom: 0.5em;}#sk-container-id-1 div.sk-estimator:hover {background-color: #d4ebff;}#sk-container-id-1 div.sk-parallel-item::after {content: \"\";width: 100%;border-bottom: 1px solid gray;flex-grow: 1;}#sk-container-id-1 div.sk-label:hover label.sk-toggleable__label {background-color: #d4ebff;}#sk-container-id-1 div.sk-serial::before {content: \"\";position: absolute;border-left: 1px solid gray;box-sizing: border-box;top: 0;bottom: 0;left: 50%;z-index: 0;}#sk-container-id-1 div.sk-serial {display: flex;flex-direction: column;align-items: center;background-color: white;padding-right: 0.2em;padding-left: 0.2em;position: relative;}#sk-container-id-1 div.sk-item {position: relative;z-index: 1;}#sk-container-id-1 div.sk-parallel {display: flex;align-items: stretch;justify-content: center;background-color: white;position: relative;}#sk-container-id-1 div.sk-item::before, #sk-container-id-1 div.sk-parallel-item::before {content: \"\";position: absolute;border-left: 1px solid gray;box-sizing: border-box;top: 0;bottom: 0;left: 50%;z-index: -1;}#sk-container-id-1 div.sk-parallel-item {display: flex;flex-direction: column;z-index: 1;position: relative;background-color: white;}#sk-container-id-1 div.sk-parallel-item:first-child::after {align-self: flex-end;width: 50%;}#sk-container-id-1 div.sk-parallel-item:last-child::after {align-self: flex-start;width: 50%;}#sk-container-id-1 div.sk-parallel-item:only-child::after {width: 0;}#sk-container-id-1 div.sk-dashed-wrapped {border: 1px dashed gray;margin: 0 0.4em 0.5em 0.4em;box-sizing: border-box;padding-bottom: 0.4em;background-color: white;}#sk-container-id-1 div.sk-label label {font-family: monospace;font-weight: bold;display: inline-block;line-height: 1.2em;}#sk-container-id-1 div.sk-label-container {text-align: center;}#sk-container-id-1 div.sk-container {/* jupyter's `normalize.less` sets `[hidden] { display: none; }` but bootstrap.min.css set `[hidden] { display: none !important; }` so we also need the `!important` here to be able to override the default hidden behavior on the sphinx rendered scikit-learn.org. See: https://github.com/scikit-learn/scikit-learn/issues/21755 */display: inline-block !important;position: relative;}#sk-container-id-1 div.sk-text-repr-fallback {display: none;}</style><div id=\"sk-container-id-1\" class=\"sk-top-container\"><div class=\"sk-text-repr-fallback\"><pre>SVC(kernel=&#x27;linear&#x27;, probability=True)</pre><b>In a Jupyter environment, please rerun this cell to show the HTML representation or trust the notebook. <br />On GitHub, the HTML representation is unable to render, please try loading this page with nbviewer.org.</b></div><div class=\"sk-container\" hidden><div class=\"sk-item\"><div class=\"sk-estimator sk-toggleable\"><input class=\"sk-toggleable__control sk-hidden--visually\" id=\"sk-estimator-id-1\" type=\"checkbox\" checked><label for=\"sk-estimator-id-1\" class=\"sk-toggleable__label sk-toggleable__label-arrow\">SVC</label><div class=\"sk-toggleable__content\"><pre>SVC(kernel=&#x27;linear&#x27;, probability=True)</pre></div></div></div></div></div>"
            ]
          },
          "metadata": {},
          "execution_count": 13
        }
      ],
      "source": [
        "\n",
        "svm_model = SVC(kernel='linear', C=1.0, probability=True)\n",
        "svm_model.fit(X_train, y_train)\n"
      ]
    },
    {
      "cell_type": "markdown",
      "source": [
        "# 2.5 Evaluate model"
      ],
      "metadata": {
        "id": "DBJlQkpfe4_9"
      }
    },
    {
      "cell_type": "code",
      "execution_count": null,
      "metadata": {
        "id": "Jp2HbkFUAFcy",
        "colab": {
          "base_uri": "https://localhost:8080/"
        },
        "outputId": "12436ba8-c202-474d-ab7c-793300f2077a"
      },
      "outputs": [
        {
          "output_type": "stream",
          "name": "stdout",
          "text": [
            "Accuracy: 0.6316507503410641\n"
          ]
        }
      ],
      "source": [
        "# Check the Accuracy of Model On test Data\n",
        "y_pred = svm_model.predict(X_test)\n",
        "accuracy = accuracy_score(y_test, y_pred)\n",
        "print(\"Accuracy:\", accuracy)"
      ]
    },
    {
      "cell_type": "markdown",
      "source": [
        "# 2.6 Compute confusion matrix"
      ],
      "metadata": {
        "id": "LMmJZHy7fCeD"
      }
    },
    {
      "cell_type": "code",
      "execution_count": null,
      "metadata": {
        "id": "sYl5JX5MAQHf",
        "colab": {
          "base_uri": "https://localhost:8080/",
          "height": 564
        },
        "outputId": "b83df4f6-8f28-4aa2-ba1f-7140a4e41a07"
      },
      "outputs": [
        {
          "output_type": "display_data",
          "data": {
            "text/plain": [
              "<Figure size 800x600 with 2 Axes>"
            ],
            "image/png": "[encoded data removed]"
          },
          "metadata": {}
        }
      ],
      "source": [
        "from sklearn.metrics import confusion_matrix\n",
        "import seaborn as sns\n",
        "import matplotlib.pyplot as plt\n",
        "\n",
        "# Make predictions on the test data\n",
        "y_pred = svm_model.predict(X_test)\n",
        "\n",
        "\n",
        "conf_matrix = confusion_matrix(y_test, y_pred)\n",
        "\n",
        "# Visualize confusion matrix\n",
        "plt.figure(figsize=(8, 6))\n",
        "sns.heatmap(conf_matrix, annot=True, fmt=\"d\", cmap=\"Blues\")\n",
        "plt.xlabel('Predicted labels')\n",
        "plt.ylabel('True labels')\n",
        "plt.title('Confusion Matrix')\n",
        "plt.show()"
      ]
    },
    {
      "cell_type": "markdown",
      "source": [
        "# 3. k-Nearest Neighbors (k-NN) with HOG features"
      ],
      "metadata": {
        "id": "N9b8-pXJfIbK"
      }
    },
    {
      "cell_type": "code",
      "source": [
        "from skimage.feature import hog\n",
        "from skimage import io, color, exposure\n",
        "from sklearn.neighbors import KNeighborsClassifier\n",
        "from sklearn.metrics import accuracy_score\n",
        "from sklearn.model_selection import train_test_split\n",
        "import os"
      ],
      "metadata": {
        "id": "mrv1Zi8aS6zL"
      },
      "execution_count": 2,
      "outputs": []
    },
    {
      "cell_type": "markdown",
      "source": [
        "# 3.1 Load and preprocess images"
      ],
      "metadata": {
        "id": "TKI5S4oKfVUk"
      }
    },
    {
      "cell_type": "code",
      "source": [
        "# Function to load and Preprocesing Images\n",
        "def load_and_preprocess_images(image_paths):\n",
        "    images = []\n",
        "    labels = []\n",
        "    for path in image_paths:\n",
        "        image = io.imread(path)\n",
        "        image = color.rgb2gray(image)  # Convert to grayscale\n",
        "        image = exposure.rescale_intensity(image, in_range=(0, 255))  # Rescale intensity\n",
        "        images.append(image)\n",
        "        # Extract label from directory name\n",
        "        label = os.path.basename(os.path.dirname(path))\n",
        "        labels.append(label)\n",
        "    return images, labels"
      ],
      "metadata": {
        "id": "dOrXOd-zTFx9"
      },
      "execution_count": 3,
      "outputs": []
    },
    {
      "cell_type": "markdown",
      "source": [
        "# 3.2 Extract HOG features"
      ],
      "metadata": {
        "id": "hmzWTaJ-fmec"
      }
    },
    {
      "cell_type": "code",
      "source": [
        "# Function to Extract HOG features\n",
        "def extract_hog_features(images):\n",
        "    hog_features = []\n",
        "    for image in images:\n",
        "        features = hog(image, orientations=9, pixels_per_cell=(8, 8), cells_per_block=(2, 2), transform_sqrt=True, block_norm=\"L2-Hys\")\n",
        "        hog_features.append(features)\n",
        "    return hog_features\n"
      ],
      "metadata": {
        "id": "Sbw8LuG6TIfW"
      },
      "execution_count": 4,
      "outputs": []
    },
    {
      "cell_type": "code",
      "source": [
        "# Define the directory containing your images\n",
        "directory = '/content/drive/MyDrive/Fiver/sight_insight_dataset/colored_images'\n",
        "\n",
        "# Initialize an empty list to store image paths\n",
        "image_paths = []"
      ],
      "metadata": {
        "id": "zEpAyko8TK2F"
      },
      "execution_count": 5,
      "outputs": []
    },
    {
      "cell_type": "code",
      "source": [
        "# Iterate through all files and subdirectories in the specified directory\n",
        "for root, _, files in os.walk(directory):\n",
        "    for file in files:\n",
        "        # Check if the file is an image file (you can adjust the condition as needed)\n",
        "        if file.endswith(('.jpg', '.jpeg', '.png', '.bmp')):\n",
        "            # Construct the full path to the image file\n",
        "            image_path = os.path.join(root, file)\n",
        "            # Append the image path to the list\n",
        "            image_paths.append(image_path)\n",
        "\n",
        "# Print the first few image paths to verify\n",
        "print(\"Total images found:\", len(image_paths))\n",
        "print(\"Sample image paths:\")\n",
        "for i in range(min(5, len(image_paths))):  # Print first 5 paths\n",
        "    print(image_paths[i])\n"
      ],
      "metadata": {
        "colab": {
          "base_uri": "https://localhost:8080/"
        },
        "id": "G3bnQSSHTM5-",
        "outputId": "ae7420bf-f20f-4c3b-bcab-90d5bd3cdce3"
      },
      "execution_count": 6,
      "outputs": [
        {
          "output_type": "stream",
          "name": "stdout",
          "text": [
            "Total images found: 3662\n",
            "Sample image paths:\n",
            "/content/drive/MyDrive/Fiver/sight_insight_dataset/colored_images/Mild/bd269a1f0e4d.png\n",
            "/content/drive/MyDrive/Fiver/sight_insight_dataset/colored_images/Mild/36041171f441.png\n",
            "/content/drive/MyDrive/Fiver/sight_insight_dataset/colored_images/Mild/89ed6a0dd53f.png\n",
            "/content/drive/MyDrive/Fiver/sight_insight_dataset/colored_images/Mild/bb11db08584a.png\n",
            "/content/drive/MyDrive/Fiver/sight_insight_dataset/colored_images/Mild/35d6c4c50072.png\n"
          ]
        }
      ]
    },
    {
      "cell_type": "code",
      "source": [
        "# Call the Function to Load dataset and extract features\n",
        "images, labels = load_and_preprocess_images(image_paths)\n",
        "hog_features = extract_hog_features(images)\n"
      ],
      "metadata": {
        "id": "zqSBCpM1TQ7R"
      },
      "execution_count": 7,
      "outputs": []
    },
    {
      "cell_type": "markdown",
      "source": [
        "# 3.3 Split dataset into training and testing sets"
      ],
      "metadata": {
        "id": "R_3mmlgcf52m"
      }
    },
    {
      "cell_type": "code",
      "source": [
        "\n",
        "X_train, X_test, y_train, y_test = train_test_split(hog_features, labels, test_size=0.2, random_state=42)\n"
      ],
      "metadata": {
        "id": "ej0y91SmTXtW"
      },
      "execution_count": 8,
      "outputs": []
    },
    {
      "cell_type": "markdown",
      "source": [
        "# 3.4 Train k-NN model"
      ],
      "metadata": {
        "id": "LS7JMMcgf-Nq"
      }
    },
    {
      "cell_type": "code",
      "source": [
        "\n",
        "knn_model = KNeighborsClassifier(n_neighbors=5)  # You can adjust the number of neighbors as needed\n",
        "knn_model.fit(X_train, y_train)"
      ],
      "metadata": {
        "colab": {
          "base_uri": "https://localhost:8080/",
          "height": 75
        },
        "id": "IaC_Z9JvTek_",
        "outputId": "7a9276b2-9027-471d-ddaf-523b66f8ec1e"
      },
      "execution_count": 9,
      "outputs": [
        {
          "output_type": "execute_result",
          "data": {
            "text/plain": [
              "KNeighborsClassifier()"
            ],
            "text/html": [
              "<style>#sk-container-id-1 {color: black;background-color: white;}#sk-container-id-1 pre{padding: 0;}#sk-container-id-1 div.sk-toggleable {background-color: white;}#sk-container-id-1 label.sk-toggleable__label {cursor: pointer;display: block;width: 100%;margin-bottom: 0;padding: 0.3em;box-sizing: border-box;text-align: center;}#sk-container-id-1 label.sk-toggleable__label-arrow:before {content: \"▸\";float: left;margin-right: 0.25em;color: #696969;}#sk-container-id-1 label.sk-toggleable__label-arrow:hover:before {color: black;}#sk-container-id-1 div.sk-estimator:hover label.sk-toggleable__label-arrow:before {color: black;}#sk-container-id-1 div.sk-toggleable__content {max-height: 0;max-width: 0;overflow: hidden;text-align: left;background-color: #f0f8ff;}#sk-container-id-1 div.sk-toggleable__content pre {margin: 0.2em;color: black;border-radius: 0.25em;background-color: #f0f8ff;}#sk-container-id-1 input.sk-toggleable__control:checked~div.sk-toggleable__content {max-height: 200px;max-width: 100%;overflow: auto;}#sk-container-id-1 input.sk-toggleable__control:checked~label.sk-toggleable__label-arrow:before {content: \"▾\";}#sk-container-id-1 div.sk-estimator input.sk-toggleable__control:checked~label.sk-toggleable__label {background-color: #d4ebff;}#sk-container-id-1 div.sk-label input.sk-toggleable__control:checked~label.sk-toggleable__label {background-color: #d4ebff;}#sk-container-id-1 input.sk-hidden--visually {border: 0;clip: rect(1px 1px 1px 1px);clip: rect(1px, 1px, 1px, 1px);height: 1px;margin: -1px;overflow: hidden;padding: 0;position: absolute;width: 1px;}#sk-container-id-1 div.sk-estimator {font-family: monospace;background-color: #f0f8ff;border: 1px dotted black;border-radius: 0.25em;box-sizing: border-box;margin-bottom: 0.5em;}#sk-container-id-1 div.sk-estimator:hover {background-color: #d4ebff;}#sk-container-id-1 div.sk-parallel-item::after {content: \"\";width: 100%;border-bottom: 1px solid gray;flex-grow: 1;}#sk-container-id-1 div.sk-label:hover label.sk-toggleable__label {background-color: #d4ebff;}#sk-container-id-1 div.sk-serial::before {content: \"\";position: absolute;border-left: 1px solid gray;box-sizing: border-box;top: 0;bottom: 0;left: 50%;z-index: 0;}#sk-container-id-1 div.sk-serial {display: flex;flex-direction: column;align-items: center;background-color: white;padding-right: 0.2em;padding-left: 0.2em;position: relative;}#sk-container-id-1 div.sk-item {position: relative;z-index: 1;}#sk-container-id-1 div.sk-parallel {display: flex;align-items: stretch;justify-content: center;background-color: white;position: relative;}#sk-container-id-1 div.sk-item::before, #sk-container-id-1 div.sk-parallel-item::before {content: \"\";position: absolute;border-left: 1px solid gray;box-sizing: border-box;top: 0;bottom: 0;left: 50%;z-index: -1;}#sk-container-id-1 div.sk-parallel-item {display: flex;flex-direction: column;z-index: 1;position: relative;background-color: white;}#sk-container-id-1 div.sk-parallel-item:first-child::after {align-self: flex-end;width: 50%;}#sk-container-id-1 div.sk-parallel-item:last-child::after {align-self: flex-start;width: 50%;}#sk-container-id-1 div.sk-parallel-item:only-child::after {width: 0;}#sk-container-id-1 div.sk-dashed-wrapped {border: 1px dashed gray;margin: 0 0.4em 0.5em 0.4em;box-sizing: border-box;padding-bottom: 0.4em;background-color: white;}#sk-container-id-1 div.sk-label label {font-family: monospace;font-weight: bold;display: inline-block;line-height: 1.2em;}#sk-container-id-1 div.sk-label-container {text-align: center;}#sk-container-id-1 div.sk-container {/* jupyter's `normalize.less` sets `[hidden] { display: none; }` but bootstrap.min.css set `[hidden] { display: none !important; }` so we also need the `!important` here to be able to override the default hidden behavior on the sphinx rendered scikit-learn.org. See: https://github.com/scikit-learn/scikit-learn/issues/21755 */display: inline-block !important;position: relative;}#sk-container-id-1 div.sk-text-repr-fallback {display: none;}</style><div id=\"sk-container-id-1\" class=\"sk-top-container\"><div class=\"sk-text-repr-fallback\"><pre>KNeighborsClassifier()</pre><b>In a Jupyter environment, please rerun this cell to show the HTML representation or trust the notebook. <br />On GitHub, the HTML representation is unable to render, please try loading this page with nbviewer.org.</b></div><div class=\"sk-container\" hidden><div class=\"sk-item\"><div class=\"sk-estimator sk-toggleable\"><input class=\"sk-toggleable__control sk-hidden--visually\" id=\"sk-estimator-id-1\" type=\"checkbox\" checked><label for=\"sk-estimator-id-1\" class=\"sk-toggleable__label sk-toggleable__label-arrow\">KNeighborsClassifier</label><div class=\"sk-toggleable__content\"><pre>KNeighborsClassifier()</pre></div></div></div></div></div>"
            ]
          },
          "metadata": {},
          "execution_count": 9
        }
      ]
    },
    {
      "cell_type": "markdown",
      "source": [
        "# 3.5 Evaluate model"
      ],
      "metadata": {
        "id": "I81cZK8_gDzj"
      }
    },
    {
      "cell_type": "code",
      "source": [
        "# Evaluate model Accuracy  on Test Dataset\n",
        "y_pred = knn_model.predict(X_test)\n",
        "accuracy = accuracy_score(y_test, y_pred)\n",
        "print(\"Accuracy:\", accuracy)"
      ],
      "metadata": {
        "colab": {
          "base_uri": "https://localhost:8080/"
        },
        "id": "T_5bYtE_Tgvy",
        "outputId": "8ed82a18-0bbd-488f-f7eb-315f2f145dab"
      },
      "execution_count": 10,
      "outputs": [
        {
          "output_type": "stream",
          "name": "stdout",
          "text": [
            "Accuracy: 0.5375170532060027\n"
          ]
        }
      ]
    },
    {
      "cell_type": "markdown",
      "source": [
        "# 3.6 Plot actual labels against predicted labels"
      ],
      "metadata": {
        "id": "dHqcTxQVgPWb"
      }
    },
    {
      "cell_type": "code",
      "source": [
        "import matplotlib.pyplot as plt\n",
        "import numpy as np\n",
        "\n",
        "# Convert labels to numeric values for plotting\n",
        "label_mapping = {label: i for i, label in enumerate(set(labels))}\n",
        "y_test_numeric = np.array([label_mapping[label] for label in y_test])\n",
        "y_pred_numeric = np.array([label_mapping[label] for label in y_pred])\n",
        "\n",
        "# Plot actual labels against predicted labels\n",
        "plt.figure(figsize=(8, 6))\n",
        "plt.scatter(y_test_numeric, y_pred_numeric, c='blue', alpha=0.5)\n",
        "plt.xlabel('Actual Labels')\n",
        "plt.ylabel('Predicted Labels')\n",
        "plt.title('Actual vs Predicted Labels')\n",
        "plt.xticks(ticks=np.arange(len(label_mapping)), labels=label_mapping.keys(), rotation=45)\n",
        "plt.yticks(ticks=np.arange(len(label_mapping)), labels=label_mapping.keys())\n",
        "plt.grid(True)\n",
        "plt.show()\n"
      ],
      "metadata": {
        "colab": {
          "base_uri": "https://localhost:8080/",
          "height": 630
        },
        "id": "WZlZhbihZC8x",
        "outputId": "1e421a80-546c-4ef4-8645-e034b95ff4f7"
      },
      "execution_count": 11,
      "outputs": [
        {
          "output_type": "display_data",
          "data": {
            "text/plain": [
              "<Figure size 800x600 with 1 Axes>"
            ],
            "image/png": "[encoded data removed]"
          },
          "metadata": {}
        }
      ]
    }
  ],
  "metadata": {
    "colab": {
      "provenance": []
    },
    "kernelspec": {
      "display_name": "Python 3",
      "name": "python3"
    },
    "language_info": {
      "name": "python"
    }
  },
  "nbformat": 4,
  "nbformat_minor": 0
}